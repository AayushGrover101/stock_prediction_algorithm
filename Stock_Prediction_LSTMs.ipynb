{
  "nbformat": 4,
  "nbformat_minor": 0,
  "metadata": {
    "colab": {
      "name": "Stock_Prediction.ipynb",
      "provenance": [],
      "collapsed_sections": [],
      "authorship_tag": "ABX9TyPKV+H45CG/cwekSEVKjsy3",
      "include_colab_link": true
    },
    "kernelspec": {
      "name": "python3",
      "display_name": "Python 3"
    },
    "language_info": {
      "name": "python"
    },
    "accelerator": "GPU"
  },
  "cells": [
    {
      "cell_type": "markdown",
      "metadata": {
        "id": "view-in-github",
        "colab_type": "text"
      },
      "source": [
        "<a href=\"https://colab.research.google.com/github/AayushGrover101/stock_prediction_algorithm/blob/master/Stock_Prediction_LSTMs.ipynb\" target=\"_parent\"><img src=\"https://colab.research.google.com/assets/colab-badge.svg\" alt=\"Open In Colab\"/></a>"
      ]
    },
    {
      "cell_type": "code",
      "source": [
        "pip install yfinance"
      ],
      "metadata": {
        "id": "D9dbzUlkCotY"
      },
      "execution_count": null,
      "outputs": []
    },
    {
      "cell_type": "code",
      "execution_count": 2,
      "metadata": {
        "id": "igP4vkUf_T3d"
      },
      "outputs": [],
      "source": [
        "# imports\n",
        "import numpy as np\n",
        "import matplotlib.pyplot as plt\n",
        "import pandas as pd\n",
        "import pandas_datareader as web\n",
        "from pandas_datareader import data as pdr\n",
        "import datetime as dt\n",
        "\n",
        "from sklearn.preprocessing import MinMaxScaler\n",
        "from tensorflow.keras.models import Sequential\n",
        "from tensorflow.keras.layers import Dense, Dropout, LSTM\n",
        "\n",
        "import yfinance as yf"
      ]
    },
    {
      "cell_type": "code",
      "source": [
        "# load data\n",
        "company = 'FB'\n",
        "\n",
        "start = dt.datetime(2015,1,1)\n",
        "end = dt.datetime(2021,1,1)\n",
        "\n",
        "# take data from yahoo finance, start-end date using the \"company\" ticker symbol\n",
        "yf.pdr_override()\n",
        "data = pdr.get_data_yahoo(company, start, end)"
      ],
      "metadata": {
        "colab": {
          "base_uri": "https://localhost:8080/"
        },
        "id": "fxbkCz3RAZvv",
        "outputId": "b1ebec81-9fa6-474d-a102-c3b64c2732c5"
      },
      "execution_count": 3,
      "outputs": [
        {
          "output_type": "stream",
          "name": "stdout",
          "text": [
            "\r[*********************100%***********************]  1 of 1 completed\n"
          ]
        }
      ]
    },
    {
      "cell_type": "code",
      "source": [
        "# prepare data\n",
        "\n",
        "# scale down values between 0 and 1\n",
        "scaler = MinMaxScaler(feature_range=(0,1))\n",
        "scaled_data = scaler.fit_transform(data['Close'].values.reshape(-1,1))\n",
        "\n",
        "prediction_days = 60\n",
        "\n",
        "x_train = []\n",
        "y_train = []\n",
        "\n",
        "# setup train data\n",
        "for x in range(prediction_days, len(scaled_data)):\n",
        "    x_train.append(scaled_data[x-prediction_days:x, 0])\n",
        "    y_train.append(scaled_data[x, 0])\n",
        "\n",
        "x_train, y_train = np.array(x_train), np.array(y_train)\n",
        "x_train = np.reshape(x_train, (x_train.shape[0], x_train.shape[1], 1))"
      ],
      "metadata": {
        "id": "8keCfhpwAxEg"
      },
      "execution_count": 4,
      "outputs": []
    },
    {
      "cell_type": "code",
      "source": [
        "# develop the model\n",
        "model = Sequential()\n",
        "\n",
        "model.add(LSTM(units=50, return_sequences=True, input_shape=(x_train.shape[1], 1)))\n",
        "model.add(Dropout(0.2))\n",
        "model.add(LSTM(units=50, return_sequences=True))\n",
        "model.add(Dropout(0.2))\n",
        "model.add(LSTM(units=50))\n",
        "model.add(Dropout(0.2))\n",
        "model.add(Dense(units=1)) # prediction\n",
        "\n",
        "model.compile(optimizer='adam', loss='mean_squared_error')\n",
        "model.fit(x_train, y_train, epochs=25, batch_size=32)"
      ],
      "metadata": {
        "colab": {
          "base_uri": "https://localhost:8080/"
        },
        "id": "N-oZVmfcCFhG",
        "outputId": "93f3d52e-c5aa-4a83-c027-1c107b2cd3d7"
      },
      "execution_count": 5,
      "outputs": [
        {
          "output_type": "stream",
          "name": "stdout",
          "text": [
            "Epoch 1/25\n",
            "46/46 [==============================] - 8s 13ms/step - loss: 0.0208\n",
            "Epoch 2/25\n",
            "46/46 [==============================] - 0s 11ms/step - loss: 0.0040\n",
            "Epoch 3/25\n",
            "46/46 [==============================] - 0s 11ms/step - loss: 0.0036\n",
            "Epoch 4/25\n",
            "46/46 [==============================] - 0s 10ms/step - loss: 0.0033\n",
            "Epoch 5/25\n",
            "46/46 [==============================] - 0s 11ms/step - loss: 0.0029\n",
            "Epoch 6/25\n",
            "46/46 [==============================] - 1s 11ms/step - loss: 0.0027\n",
            "Epoch 7/25\n",
            "46/46 [==============================] - 0s 10ms/step - loss: 0.0028\n",
            "Epoch 8/25\n",
            "46/46 [==============================] - 1s 11ms/step - loss: 0.0033\n",
            "Epoch 9/25\n",
            "46/46 [==============================] - 0s 11ms/step - loss: 0.0030\n",
            "Epoch 10/25\n",
            "46/46 [==============================] - 0s 11ms/step - loss: 0.0024\n",
            "Epoch 11/25\n",
            "46/46 [==============================] - 0s 11ms/step - loss: 0.0029\n",
            "Epoch 12/25\n",
            "46/46 [==============================] - 0s 11ms/step - loss: 0.0022\n",
            "Epoch 13/25\n",
            "46/46 [==============================] - 0s 10ms/step - loss: 0.0025\n",
            "Epoch 14/25\n",
            "46/46 [==============================] - 0s 10ms/step - loss: 0.0024\n",
            "Epoch 15/25\n",
            "46/46 [==============================] - 0s 11ms/step - loss: 0.0031\n",
            "Epoch 16/25\n",
            "46/46 [==============================] - 0s 11ms/step - loss: 0.0023\n",
            "Epoch 17/25\n",
            "46/46 [==============================] - 0s 10ms/step - loss: 0.0020\n",
            "Epoch 18/25\n",
            "46/46 [==============================] - 0s 10ms/step - loss: 0.0022\n",
            "Epoch 19/25\n",
            "46/46 [==============================] - 0s 10ms/step - loss: 0.0023\n",
            "Epoch 20/25\n",
            "46/46 [==============================] - 0s 10ms/step - loss: 0.0022\n",
            "Epoch 21/25\n",
            "46/46 [==============================] - 0s 11ms/step - loss: 0.0019\n",
            "Epoch 22/25\n",
            "46/46 [==============================] - 0s 11ms/step - loss: 0.0017\n",
            "Epoch 23/25\n",
            "46/46 [==============================] - 0s 10ms/step - loss: 0.0020\n",
            "Epoch 24/25\n",
            "46/46 [==============================] - 0s 11ms/step - loss: 0.0020\n",
            "Epoch 25/25\n",
            "46/46 [==============================] - 0s 11ms/step - loss: 0.0018\n"
          ]
        },
        {
          "output_type": "execute_result",
          "data": {
            "text/plain": [
              "<keras.callbacks.History at 0x7feb001231d0>"
            ]
          },
          "metadata": {},
          "execution_count": 5
        }
      ]
    },
    {
      "cell_type": "code",
      "source": [
        "# test model accuracy on past data\n",
        "test_start = dt.datetime(2021,1,1)\n",
        "test_end = dt.datetime.now()\n",
        "\n",
        "test_data = pdr.get_data_yahoo(company, test_start, test_end)\n",
        "actual_prices = test_data['Close'].values\n",
        "\n",
        "total_dataset = pd.concat((data['Close'], test_data['Close']), axis=0)\n",
        "\n",
        "model_inputs = total_dataset[len(total_dataset) - len(test_data) - prediction_days:].values\n",
        "model_inputs = model_inputs.reshape(-1,1)\n",
        "model_inputs = scaler.transform(model_inputs)"
      ],
      "metadata": {
        "colab": {
          "base_uri": "https://localhost:8080/"
        },
        "id": "8k7wqinLKrlR",
        "outputId": "83394f1e-629d-4b3b-e5b1-c7873d308c3f"
      },
      "execution_count": 6,
      "outputs": [
        {
          "output_type": "stream",
          "name": "stdout",
          "text": [
            "\r[*********************100%***********************]  1 of 1 completed\n"
          ]
        }
      ]
    },
    {
      "cell_type": "code",
      "source": [
        "# make predictions on test-data\n",
        "x_test = []\n",
        "\n",
        "for x in range(prediction_days, len(model_inputs)):\n",
        "    x_test.append(model_inputs[x-prediction_days:x, 0])\n",
        "\n",
        "x_test = np.array(x_test)\n",
        "x_test = np.reshape(x_test, (x_test.shape[0], x_test.shape[1], 1))\n",
        "\n",
        "predicted_prices = model.predict(x_test)\n",
        "predicted_prices = scaler.inverse_transform(predicted_prices)"
      ],
      "metadata": {
        "id": "5YiQXAfqMMHu"
      },
      "execution_count": 7,
      "outputs": []
    },
    {
      "cell_type": "code",
      "source": [
        "# plot test predictions\n",
        "plt.figure(figsize=(10, 5))\n",
        "plt.plot(actual_prices, color=\"black\", label=f\"Actual {company.upper()} Price\")\n",
        "plt.plot(predicted_prices, color=\"purple\", label=f\"Predicted {company} Price\")\n",
        "plt.title(f\"{company} Share Price\")\n",
        "plt.xlabel(\"Time\")\n",
        "plt.ylabel(f\"{company} Share Price\")\n",
        "plt.legend()\n",
        "plt.show()"
      ],
      "metadata": {
        "colab": {
          "base_uri": "https://localhost:8080/",
          "height": 350
        },
        "id": "WuMRn039NLAc",
        "outputId": "a5e16cac-8615-459b-bcfd-01e2c573bf49"
      },
      "execution_count": 13,
      "outputs": [
        {
          "output_type": "display_data",
          "data": {
            "image/png": "[encoded data removed]",
            "text/plain": [
              "<Figure size 720x360 with 1 Axes>"
            ]
          },
          "metadata": {
            "needs_background": "light"
          }
        }
      ]
    },
    {
      "cell_type": "code",
      "source": [
        "# predict next day\n",
        "\n",
        "real_data = [model_inputs[len(model_inputs) - prediction_days:len(model_inputs+1), 0]]\n",
        "real_data = np.array(real_data)\n",
        "real_data = np.reshape(real_data, (real_data.shape[0], real_data.shape[1], 1))\n",
        "\n",
        "prediction = model.predict(real_data)\n",
        "prediction = scaler.inverse_transform(prediction)\n",
        "print(f\"Prediction: {prediction}\")"
      ],
      "metadata": {
        "colab": {
          "base_uri": "https://localhost:8080/"
        },
        "id": "PyUkU1b8OuOH",
        "outputId": "12ebdcce-b6d8-42b4-936a-88aeb24eaec2"
      },
      "execution_count": null,
      "outputs": [
        {
          "output_type": "stream",
          "name": "stdout",
          "text": [
            "Prediction: [[167.38013]]\n"
          ]
        }
      ]
    }
  ]
}